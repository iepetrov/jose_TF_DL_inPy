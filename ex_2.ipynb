{
  "nbformat": 4,
  "nbformat_minor": 0,
  "metadata": {
    "colab": {
      "name": "ex_2.ipynb",
      "version": "0.3.2",
      "provenance": [],
      "collapsed_sections": [],
      "include_colab_link": true
    },
    "kernelspec": {
      "name": "python3",
      "display_name": "Python 3"
    }
  },
  "cells": [
    {
      "cell_type": "markdown",
      "metadata": {
        "id": "view-in-github",
        "colab_type": "text"
      },
      "source": [
        "<a href=\"https://colab.research.google.com/github/iepetrov/jose_TF_DL_inPy/blob/master/ex_2.ipynb\" target=\"_parent\"><img src=\"https://colab.research.google.com/assets/colab-badge.svg\" alt=\"Open In Colab\"/></a>"
      ]
    },
    {
      "cell_type": "code",
      "metadata": {
        "id": "kZYHJClg0jYp",
        "colab_type": "code",
        "colab": {}
      },
      "source": [
        "import tensorflow as tf"
      ],
      "execution_count": 0,
      "outputs": []
    },
    {
      "cell_type": "code",
      "metadata": {
        "id": "VWCdyGYY0y0c",
        "colab_type": "code",
        "colab": {}
      },
      "source": [
        "# Basic constant operations\n",
        "# The value returned by the constructor represents the output\n",
        "# of the Constant op.\n",
        "a = tf.constant(2)\n",
        "b = tf.constant(3)"
      ],
      "execution_count": 0,
      "outputs": []
    },
    {
      "cell_type": "code",
      "metadata": {
        "id": "BkZhYdlU03eq",
        "colab_type": "code",
        "colab": {
          "base_uri": "https://localhost:8080/",
          "height": 69
        },
        "outputId": "8a61ab1d-8d89-45a9-b613-a5e93dc5d6f2"
      },
      "source": [
        "# Launch the default graph.\n",
        "with tf.Session() as sess:\n",
        "    print(\"a=2, b=3\")\n",
        "    print(\"Addition with constants: %i\" % sess.run(a+b))\n",
        "    print(\"Multiplication with constants: %i\" % sess.run(a*b))"
      ],
      "execution_count": 4,
      "outputs": [
        {
          "output_type": "stream",
          "text": [
            "a=2, b=3\n",
            "Addition with constants: 5\n",
            "Multiplication with constants: 6\n"
          ],
          "name": "stdout"
        }
      ]
    },
    {
      "cell_type": "code",
      "metadata": {
        "id": "At7-jLZj1OYw",
        "colab_type": "code",
        "colab": {}
      },
      "source": [
        "# Basic Operations with variable as graph input\n",
        "# The value returned by the constructor represents the output\n",
        "# of the Variable op. (define as input when running session)\n",
        "# tf Graph input\n",
        "a = tf.placeholder(tf.int16)\n",
        "b = tf.placeholder(tf.int16)"
      ],
      "execution_count": 0,
      "outputs": []
    },
    {
      "cell_type": "code",
      "metadata": {
        "id": "2ZFTHxXC15XW",
        "colab_type": "code",
        "colab": {}
      },
      "source": [
        "# Define some operations\n",
        "add = tf.add(a, b)\n",
        "mul = tf.multiply(a, b)"
      ],
      "execution_count": 0,
      "outputs": []
    },
    {
      "cell_type": "code",
      "metadata": {
        "id": "VcdoXXSu1-NX",
        "colab_type": "code",
        "colab": {
          "base_uri": "https://localhost:8080/",
          "height": 51
        },
        "outputId": "7b54c21d-c677-462a-ae10-e42290e38de0"
      },
      "source": [
        "# Launch the default graph.\n",
        "with tf.Session() as sess:\n",
        "    # Run every operation with variable input\n",
        "    print(\"Addition with variables: %i\" % sess.run(add, feed_dict={a: 2, b: 3}))\n",
        "    print(\"Multiplication with variables: %i\" % sess.run(mul, feed_dict={a: 2, b: 3}))"
      ],
      "execution_count": 7,
      "outputs": [
        {
          "output_type": "stream",
          "text": [
            "Addition with variables: 5\n",
            "Multiplication with variables: 6\n"
          ],
          "name": "stdout"
        }
      ]
    },
    {
      "cell_type": "code",
      "metadata": {
        "id": "BFVnRSxn2GPZ",
        "colab_type": "code",
        "colab": {}
      },
      "source": [
        "# ----------------\n",
        "# More in details:\n",
        "# Matrix Multiplication from TensorFlow official tutorial\n",
        "\n",
        "# Create a Constant op that produces a 1x2 matrix.  The op is\n",
        "# added as a node to the default graph.\n",
        "#\n",
        "# The value returned by the constructor represents the output\n",
        "# of the Constant op.\n",
        "matrix1 = tf.constant([[3., 3.]])"
      ],
      "execution_count": 0,
      "outputs": []
    },
    {
      "cell_type": "code",
      "metadata": {
        "id": "BwucOdac2cRZ",
        "colab_type": "code",
        "colab": {}
      },
      "source": [
        "# Create another Constant that produces a 2x1 matrix.\n",
        "matrix2 = tf.constant([[2.],[2.]])"
      ],
      "execution_count": 0,
      "outputs": []
    },
    {
      "cell_type": "code",
      "metadata": {
        "id": "6aveRVle3CPV",
        "colab_type": "code",
        "colab": {}
      },
      "source": [
        "# Create a Matmul op that takes 'matrix1' and 'matrix2' as inputs.\n",
        "# The returned value, 'product', represents the result of the matrix\n",
        "# multiplication.\n",
        "product = tf.matmul(matrix1, matrix2)"
      ],
      "execution_count": 0,
      "outputs": []
    },
    {
      "cell_type": "code",
      "metadata": {
        "id": "7ivc60Pb3MpV",
        "colab_type": "code",
        "colab": {
          "base_uri": "https://localhost:8080/",
          "height": 34
        },
        "outputId": "d9a314bf-2a3a-47cc-bdd4-d9459ca57606"
      },
      "source": [
        "# To run the matmul op we call the session 'run()' method, passing 'product'\n",
        "# which represents the output of the matmul op.  This indicates to the call\n",
        "# that we want to get the output of the matmul op back.\n",
        "#\n",
        "# All inputs needed by the op are run automatically by the session.  They\n",
        "# typically are run in parallel.\n",
        "#\n",
        "# The call 'run(product)' thus causes the execution of threes ops in the\n",
        "# graph: the two constants and matmul.\n",
        "#\n",
        "# The output of the op is returned in 'result' as a numpy `ndarray` object.\n",
        "with tf.Session() as sess:\n",
        "    result = sess.run(product)\n",
        "    print(result)\n",
        "    # ==> [[ 12.]]"
      ],
      "execution_count": 14,
      "outputs": [
        {
          "output_type": "stream",
          "text": [
            "[[12.]]\n"
          ],
          "name": "stdout"
        }
      ]
    },
    {
      "cell_type": "code",
      "metadata": {
        "id": "QKQ4zyPP3h4t",
        "colab_type": "code",
        "colab": {
          "base_uri": "https://localhost:8080/",
          "height": 34
        },
        "outputId": "329af987-84e7-4a56-df5d-38d412e6eef1"
      },
      "source": [
        "# Add\n",
        "tensor_a = tf.constant([[1,2]], dtype = tf.int32)\n",
        "tensor_b = tf.constant([[3, 4]], dtype = tf.int32)\n",
        "\n",
        "tensor_add = tf.add(tensor_a, tensor_b)\n",
        "print(tensor_add)"
      ],
      "execution_count": 15,
      "outputs": [
        {
          "output_type": "stream",
          "text": [
            "Tensor(\"Add_2:0\", shape=(1, 2), dtype=int32)\n"
          ],
          "name": "stdout"
        }
      ]
    },
    {
      "cell_type": "code",
      "metadata": {
        "id": "mKK5NqiR-EYR",
        "colab_type": "code",
        "colab": {
          "base_uri": "https://localhost:8080/",
          "height": 34
        },
        "outputId": "cedcd67d-d75c-4c19-8d73-8faeaeb0c071"
      },
      "source": [
        "with tf.Session() as sess:\n",
        "    result = sess.run(tensor_add)\n",
        "    print(result)"
      ],
      "execution_count": 17,
      "outputs": [
        {
          "output_type": "stream",
          "text": [
            "[[4 6]]\n"
          ],
          "name": "stdout"
        }
      ]
    },
    {
      "cell_type": "code",
      "metadata": {
        "id": "7_Q6OJAY-xCx",
        "colab_type": "code",
        "colab": {
          "base_uri": "https://localhost:8080/",
          "height": 34
        },
        "outputId": "e6ec8a81-b7e9-4fc7-c455-e9b4bf617760"
      },
      "source": [
        "tensor_mult = tf.multiply(tensor_a, tensor_b)\n",
        "with tf.Session() as sess:\n",
        "    result1 = sess.run(tensor_mult)\n",
        "    print(result1)"
      ],
      "execution_count": 18,
      "outputs": [
        {
          "output_type": "stream",
          "text": [
            "[[3 8]]\n"
          ],
          "name": "stdout"
        }
      ]
    },
    {
      "cell_type": "code",
      "metadata": {
        "id": "45Rxdcns_2sH",
        "colab_type": "code",
        "colab": {
          "base_uri": "https://localhost:8080/",
          "height": 51
        },
        "outputId": "d79ef7af-3087-4e66-a77a-7fcfe68de0f0"
      },
      "source": [
        "tensor_a = tf.constant([[1],[2]], dtype = tf.int32)\n",
        "tensor_b = tf.constant([[3, 4]], dtype = tf.int32)\n",
        "tensor_mult = tf.multiply(tensor_a, tensor_b)\n",
        "with tf.Session() as sess:\n",
        "    result1 = sess.run(tensor_mult)\n",
        "    print(result1)"
      ],
      "execution_count": 19,
      "outputs": [
        {
          "output_type": "stream",
          "text": [
            "[[3 4]\n",
            " [6 8]]\n"
          ],
          "name": "stdout"
        }
      ]
    },
    {
      "cell_type": "code",
      "metadata": {
        "id": "2iEmTl5aAJfp",
        "colab_type": "code",
        "colab": {
          "base_uri": "https://localhost:8080/",
          "height": 51
        },
        "outputId": "a6f02b5a-0921-48b8-d779-2014a142ef32"
      },
      "source": [
        "tensor_a = tf.constant([[1,2]], dtype = tf.int32)\n",
        "tensor_b = tf.constant([[3],[4]], dtype = tf.int32)\n",
        "tensor_mult = tf.multiply(tensor_a, tensor_b)\n",
        "with tf.Session() as sess:\n",
        "    result1 = sess.run(tensor_mult)\n",
        "    print(result1)"
      ],
      "execution_count": 21,
      "outputs": [
        {
          "output_type": "stream",
          "text": [
            "[[3 6]\n",
            " [4 8]]\n"
          ],
          "name": "stdout"
        }
      ]
    },
    {
      "cell_type": "code",
      "metadata": {
        "id": "fSBdWwqCASsG",
        "colab_type": "code",
        "colab": {
          "base_uri": "https://localhost:8080/",
          "height": 51
        },
        "outputId": "f43e56dd-b217-40eb-f453-f448b516fc6c"
      },
      "source": [
        "tensor_a = tf.constant([[1],[2]], dtype = tf.int32)\n",
        "tensor_b = tf.constant([[3, 4]], dtype = tf.int32)\n",
        "tensor_mult = tf.matmul(tensor_a, tensor_b)\n",
        "with tf.Session() as sess:\n",
        "    result1 = sess.run(tensor_mult)\n",
        "    print(result1)"
      ],
      "execution_count": 22,
      "outputs": [
        {
          "output_type": "stream",
          "text": [
            "[[3 4]\n",
            " [6 8]]\n"
          ],
          "name": "stdout"
        }
      ]
    },
    {
      "cell_type": "code",
      "metadata": {
        "id": "Aa3QOXJkAnpo",
        "colab_type": "code",
        "colab": {
          "base_uri": "https://localhost:8080/",
          "height": 34
        },
        "outputId": "1b29548c-809c-4e6a-b523-10b651f903cf"
      },
      "source": [
        "tensor_a = tf.constant([[1,2]], dtype = tf.int32)\n",
        "tensor_b = tf.constant([[3],[4]], dtype = tf.int32)\n",
        "tensor_mult = tf.matmul(tensor_a, tensor_b)\n",
        "with tf.Session() as sess:\n",
        "    result1 = sess.run(tensor_mult)\n",
        "    print(result1)"
      ],
      "execution_count": 23,
      "outputs": [
        {
          "output_type": "stream",
          "text": [
            "[[11]]\n"
          ],
          "name": "stdout"
        }
      ]
    },
    {
      "cell_type": "code",
      "metadata": {
        "id": "u3Y1ZVQZAs7m",
        "colab_type": "code",
        "colab": {
          "base_uri": "https://localhost:8080/",
          "height": 69
        },
        "outputId": "337da8e1-f704-46ac-f8de-3c340727fa95"
      },
      "source": [
        "import numpy as np\n",
        "\n",
        "data_placeholder_a = tf.placeholder(tf.float32, name = \"data_placeholder_a\")\n",
        "print(data_placeholder_a)\n",
        "\n",
        "power_a = tf.pow(data_placeholder_a, 2) \n",
        "\n",
        "with tf.Session() as sess:  \n",
        "  data = np.random.rand(1, 10)  \n",
        "  print(sess.run(power_a, feed_dict={data_placeholder_a: data}))"
      ],
      "execution_count": 27,
      "outputs": [
        {
          "output_type": "stream",
          "text": [
            "Tensor(\"data_placeholder_a:0\", dtype=float32)\n",
            "[[0.12524186 0.54878324 0.37933198 0.08577479 0.63997847 0.6915299\n",
            "  0.9082213  0.5659813  0.3355632  0.00099745]]\n"
          ],
          "name": "stdout"
        }
      ]
    },
    {
      "cell_type": "code",
      "metadata": {
        "id": "e5m68nYTCD28",
        "colab_type": "code",
        "colab": {}
      },
      "source": [
        ""
      ],
      "execution_count": 0,
      "outputs": []
    }
  ]
}